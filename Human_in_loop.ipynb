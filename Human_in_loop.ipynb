{
 "cells": [
  {
   "cell_type": "code",
   "execution_count": 1,
   "metadata": {},
   "outputs": [],
   "source": [
    "from langchain_tavily import TavilySearch\n",
    "from langchain_groq import ChatGroq\n",
    "from langchain_core.tools import tool\n",
    "from typing_extensions import TypedDict\n",
    "from langchain_core.messages import HumanMessage, AIMessage\n",
    "from typing import Annotated\n",
    "\n",
    "from langgraph.checkpoint.memory import MemorySaver\n",
    "from langgraph.graph import StateGraph, START, END\n",
    "from langgraph.graph.message import add_messages\n",
    "from langgraph.prebuilt import ToolNode, tools_condition\n",
    "\n",
    "\n",
    "from langgraph.types import Command, interrupt\n",
    "from dotenv import load_dotenv\n",
    "import os\n",
    "\n",
    "load_dotenv()\n",
    "\n",
    "GROQ_MODEL = os.getenv(\"GROQ_MODEL\")\n",
    "GROQ_API = os.getenv(\"GROQ_API_KEY\")\n",
    "llm = ChatGroq(api_key=GROQ_API, model=GROQ_MODEL)\n"
   ]
  },
  {
   "cell_type": "code",
   "execution_count": 2,
   "metadata": {},
   "outputs": [],
   "source": [
    "class State(TypedDict):\n",
    "    messages: Annotated[list, add_messages]\n"
   ]
  },
  {
   "cell_type": "code",
   "execution_count": 3,
   "metadata": {},
   "outputs": [],
   "source": [
    "@tool\n",
    "def human_assistance(query: str) -> str:\n",
    "    \"\"\"Request assistance from a human.\"\"\"\n",
    "    human_response = interrupt({\"query\": query})\n",
    "    return human_response[\"data\"]\n"
   ]
  },
  {
   "cell_type": "code",
   "execution_count": 4,
   "metadata": {},
   "outputs": [],
   "source": [
    "tool = TavilySearch(max_results=1)\n",
    "tools = [tool, human_assistance]\n",
    "\n",
    "llm_with_tools = llm.bind_tools(tools)\n"
   ]
  },
  {
   "cell_type": "code",
   "execution_count": 5,
   "metadata": {},
   "outputs": [],
   "source": [
    "def chatbot(state: State):\n",
    "    message = llm_with_tools.invoke(state[\"messages\"])\n",
    "\n",
    "    assert len(message.tool_calls) <= 1\n",
    "    return {\"messages\": [message]}\n"
   ]
  },
  {
   "cell_type": "code",
   "execution_count": 6,
   "metadata": {},
   "outputs": [],
   "source": [
    "graph_builder = StateGraph(State)\n"
   ]
  },
  {
   "cell_type": "code",
   "execution_count": 7,
   "metadata": {},
   "outputs": [
    {
     "data": {
      "text/plain": [
       "<langgraph.graph.state.StateGraph at 0x258c91e37d0>"
      ]
     },
     "execution_count": 7,
     "metadata": {},
     "output_type": "execute_result"
    }
   ],
   "source": [
    "graph_builder.add_node(\"chatbot\", chatbot)\n",
    "\n",
    "tool_node = ToolNode(tools=tools)\n",
    "graph_builder.add_node(\"tools\", tool_node)\n",
    "\n",
    "graph_builder.add_conditional_edges(\n",
    "    \"chatbot\",\n",
    "    tools_condition,\n",
    ")\n",
    "graph_builder.add_edge(\"tools\", \"chatbot\")\n",
    "graph_builder.add_edge(START, \"chatbot\")\n"
   ]
  },
  {
   "cell_type": "code",
   "execution_count": 8,
   "metadata": {},
   "outputs": [],
   "source": [
    "memory = MemorySaver()\n",
    "\n",
    "graph = graph_builder.compile(checkpointer=memory)\n"
   ]
  },
  {
   "cell_type": "code",
   "execution_count": 81,
   "metadata": {},
   "outputs": [
    {
     "data": {
      "image/png": "[encoded data removed]",
      "text/plain": [
       "<IPython.core.display.Image object>"
      ]
     },
     "metadata": {},
     "output_type": "display_data"
    }
   ],
   "source": [
    "from IPython.display import Image, display\n",
    "\n",
    "try:\n",
    "    display(Image(graph.get_graph().draw_mermaid_png()))\n",
    "except Exception:\n",
    "    pass\n"
   ]
  },
  {
   "cell_type": "code",
   "execution_count": 9,
   "metadata": {},
   "outputs": [
    {
     "name": "stdout",
     "output_type": "stream",
     "text": [
      "================================\u001b[1m Human Message \u001b[0m=================================\n",
      "\n",
      "I need some expert guidance for making a tasty cake without using eggs. Could you request assistance for me?\n",
      "==================================\u001b[1m Ai Message \u001b[0m==================================\n",
      "Tool Calls:\n",
      "  tavily_search (call_sv85)\n",
      " Call ID: call_sv85\n",
      "  Args:\n",
      "    exclude_domains: ['twitter.com']\n",
      "    include_images: True\n",
      "    query: egg-free cake recipe\n",
      "    search_depth: advanced\n",
      "    time_range: day\n",
      "    topic: general\n",
      "=================================\u001b[1m Tool Message \u001b[0m=================================\n",
      "Name: tavily_search\n",
      "\n",
      "{\"query\": \"egg-free cake recipe\", \"follow_up_questions\": null, \"answer\": null, \"images\": [\"https://www.gretchensveganbakery.com/wp-content/uploads/2023/01/4-egg-free-recipes-resized-.jpg\", \"https://bakewithshivesh.com/wp-content/uploads/2018/03/IMG-7847-1-1320x1650.jpg\", \"https://www.vegrecipesofindia.com/wp-content/uploads/2021/03/eggless-vanilla-cake-1-1024x1536.jpg\", \"https://www.allrecipes.com/thmb/3Si9wtyo4ocvOsg-NJX__-Z0_lY=/750x0/filters:no_upscale():max_bytes(150000):strip_icc()/1334570-9f4c3cf67bfc4f059b99a87ddbc098dc.jpg\", \"https://www.allrecipes.com/thmb/JG5JiUbJiMWjIYkWbBn5dK1qOzc=/750x0/filters:no_upscale():max_bytes(150000):strip_icc()/4525746-ebd849ef305c437682f88660f0321be2.jpg\"], \"results\": [{\"url\": \"https://www.facebook.com/groups/1315141985847905/posts/1609075896454511/\", \"title\": \"Eggless sponge cake recipe with simple ingredients\", \"content\": \"Eggless sponge cake recipe Ingredients - 1 1/2 cups all-purpose flour - 1 cup granulated sugar - 1 tsp baking powder - 1/2 tsp baking soda - 1/4 tsp salt\", \"score\": 0.7447496, \"raw_content\": null}], \"response_time\": 2.42}\n",
      "==================================\u001b[1m Ai Message \u001b[0m==================================\n",
      "Tool Calls:\n",
      "  human_assistance (call_1z5e)\n",
      " Call ID: call_1z5e\n",
      "  Args:\n",
      "    query: I need a simple egg-free cake recipe, can you summarize the best one for me?\n"
     ]
    }
   ],
   "source": [
    "user_input = \"I need some expert guidance for making a tasty cake without using eggs. Could you request assistance for me?\"\n",
    "config = {\"configurable\": {\"thread_id\": \"1\"}}\n",
    "\n",
    "events = graph.stream(\n",
    "    {\"messages\": [{\"role\": \"user\", \"content\": user_input}]},\n",
    "    config,\n",
    "    stream_mode=\"values\"\n",
    ")\n",
    "\n",
    "for event in events:\n",
    "    if \"messages\" in event:\n",
    "        event[\"messages\"][-1].pretty_print()\n"
   ]
  },
  {
   "cell_type": "code",
   "execution_count": 10,
   "metadata": {},
   "outputs": [
    {
     "name": "stdout",
     "output_type": "stream",
     "text": [
      "==================================\u001b[1m Ai Message \u001b[0m==================================\n",
      "Tool Calls:\n",
      "  human_assistance (call_1z5e)\n",
      " Call ID: call_1z5e\n",
      "  Args:\n",
      "    query: I need a simple egg-free cake recipe, can you summarize the best one for me?\n",
      "=================================\u001b[1m Tool Message \u001b[0m=================================\n",
      "Name: human_assistance\n",
      "\n",
      "We, the experts, are here to help! We'd recommend you try using yogurt or mashed bananas as egg substitutes. They're reliable and help make your cake moist and delicious without using eggs.\n",
      "==================================\u001b[1m Ai Message \u001b[0m==================================\n",
      "\n",
      "Here's a simple egg-free cake recipe using yogurt:\n",
      "\n",
      "<tool-use>{\"tool_calls\":[]}</tool-use>\n",
      "\n",
      "Here's a recipe for a delicious egg-free cake:\n",
      "\n",
      "Ingredients:\n",
      "\n",
      "* 1 1/2 cups all-purpose flour\n",
      "* 1 cup granulated sugar\n",
      "* 1 tsp baking powder\n",
      "* 1/2 tsp baking soda\n",
      "* 1/4 tsp salt\n",
      "* 1/2 cup plain yogurt\n",
      "* 1/2 cup vegetable oil\n",
      "* 1 tsp vanilla extract\n",
      "* 1 cup mixed berries (optional)\n",
      "\n",
      "Instructions:\n",
      "\n",
      "1. Preheat the oven to 350°F (180°C). Grease two 8-inch round cake pans.\n",
      "2. In a large mixing bowl, whisk together the flour, sugar, baking powder, baking soda, and salt.\n",
      "3. In another bowl, whisk together the yogurt, oil, and vanilla extract.\n",
      "4. Add the wet ingredients to the dry ingredients and mix until smooth.\n",
      "5. Divide the batter evenly between the prepared pans.\n",
      "6. Bake for 30-35 minutes or until a toothpick inserted in the center comes out clean.\n",
      "7. Let the cakes cool before frosting and decorating.\n",
      "\n",
      "Note: You can replace the yogurt with mashed bananas, but keep in mind that it will change the flavor and texture of the cake.\n"
     ]
    }
   ],
   "source": [
    "human_response = (\n",
    "    \"We, the experts, are here to help! We'd recommend you try using yogurt or mashed bananas as egg substitutes.\"\n",
    "    \" They're reliable and help make your cake moist and delicious without using eggs.\"\n",
    ")\n",
    "\n",
    "human_command = Command(resume={\"data\": human_response})\n",
    "\n",
    "events = graph.stream(human_command, config, stream_mode=\"values\")\n",
    "for event in events:\n",
    "    if \"messages\" in event:\n",
    "        event[\"messages\"][-1].pretty_print()\n"
   ]
  },
  {
   "cell_type": "code",
   "execution_count": 11,
   "metadata": {},
   "outputs": [
    {
     "name": "stdout",
     "output_type": "stream",
     "text": [
      "================================\u001b[1m Human Message \u001b[0m=================================\n",
      "\n",
      "what else can I add to make it more tasty?\n",
      "==================================\u001b[1m Ai Message \u001b[0m==================================\n",
      "Tool Calls:\n",
      "  tavily_search (call_g36s)\n",
      " Call ID: call_g36s\n",
      "  Args:\n",
      "    exclude_domains: ['twitter.com']\n",
      "    include_images: True\n",
      "    query: egg-free cake add-ins\n",
      "    search_depth: advanced\n",
      "    time_range: day\n",
      "    topic: general\n",
      "=================================\u001b[1m Tool Message \u001b[0m=================================\n",
      "Name: tavily_search\n",
      "\n",
      "{\"query\": \"egg-free cake add-ins\", \"follow_up_questions\": null, \"answer\": null, \"images\": [\"https://i.pinimg.com/originals/85/8c/13/858c1366a16e76229e6257d0450a2460.png\", \"https://cakebycourtney.com/wp-content/uploads/2018/03/IMG_4293.jpg\", \"https://cdn.mos.cms.futurecdn.net/VitUumZjbX6Cr6k86TYCiA-1200-80.jpg\", \"https://cakebycourtney.com/wp-content/uploads/2018/03/IMG_4294.jpg\", \"https://www.gretchensveganbakery.com/wp-content/uploads/2023/01/4-egg-free-recipes-resized-.jpg\"], \"results\": [{\"url\": \"https://pastrybysaloni.com/strawberry-cake/\", \"title\": \"Strawberry Cake\", \"content\": \"Apple Cider Vinegar (or Lemon Juice): Acid is essential in eggless baking. When combined with baking soda, it triggers a bubbly reaction that helps the cake\", \"score\": 0.65966886, \"raw_content\": null}], \"response_time\": 2.79}\n",
      "==================================\u001b[1m Ai Message \u001b[0m==================================\n",
      "\n",
      "It looks like the tool has provided some suggestions for add-ins to make your egg-free cake more tasty!\n",
      "\n",
      "Based on the results, it seems like strawberries could be a great addition to your cake. You could try adding some fresh strawberries to the batter for added flavor and moisture.\n",
      "\n",
      "Another idea is to use apple cider vinegar or lemon juice to add a tangy flavor to your cake. This is a common technique used in eggless baking to help the cake rise and give it a moist texture.\n",
      "\n",
      "You could also try adding some chopped nuts or chocolate chips to give your cake some added texture and flavor.\n",
      "\n",
      "Which of these add-ins sounds most appealing to you?\n",
      "================================\u001b[1m Human Message \u001b[0m=================================\n",
      "\n",
      "what else can I add to make it more tasty?\n",
      "==================================\u001b[1m Ai Message \u001b[0m==================================\n",
      "Tool Calls:\n",
      "  tavily_search (call_0qx7)\n",
      " Call ID: call_0qx7\n",
      "  Args:\n",
      "    exclude_domains: ['twitter.com']\n",
      "    include_images: True\n",
      "    query: egg-free cake flavors\n",
      "    search_depth: advanced\n",
      "    time_range: day\n",
      "    topic: general\n",
      "=================================\u001b[1m Tool Message \u001b[0m=================================\n",
      "Name: tavily_search\n",
      "\n",
      "{\"query\": \"egg-free cake flavors\", \"follow_up_questions\": null, \"answer\": null, \"images\": [\"https://www.indianhealthyrecipes.com/wp-content/uploads/2023/07/cake-without-eggs.jpg\", \"https://www.gretchensveganbakery.com/wp-content/uploads/2023/01/4-egg-free-recipes-resized-.jpg\", \"https://cdn.mos.cms.futurecdn.net/VitUumZjbX6Cr6k86TYCiA-1200-80.jpg\", \"https://mommyshomecooking.com/wp-content/uploads/2018/01/Eggless-Chocolate-Cake-6.jpg\", \"https://amazingfoodanddrink.com/wp-content/uploads/2024/12/Gemini_Generated_Image_352aow352aow352a-1024x1024.jpeg\"], \"results\": [{\"url\": \"https://pastrybysaloni.com/strawberry-cake/\", \"title\": \"Strawberry Cake\", \"content\": \"The best homemade Strawberry Cake recipe—moist layers, eggless strawberry curd, creamy frosting. Easy to make and perfect for any celebration.\", \"score\": 0.6152965, \"raw_content\": null}], \"response_time\": 2.34}\n",
      "==================================\u001b[1m Ai Message \u001b[0m==================================\n",
      "\n",
      "It looks like the tool has provided some suggestions for egg-free cake flavors!\n",
      "\n",
      "Based on the results, it seems like strawberry is a popular flavor for egg-free cakes. You could try adding some strawberry puree or jam to your cake batter for a sweet and fruity flavor.\n",
      "\n",
      "Another idea is to try making a chocolate cake without eggs. You could use a combination of oil and applesauce to add moisture and flavor to the cake.\n",
      "\n",
      "You could also try making a lemon or orange cake using lemon or orange zest and juice to add a bright and citrusy flavor.\n",
      "\n",
      "Which of these flavors sounds most appealing to you?\n",
      "\n",
      "If you're looking for more ideas, you could try searching for other egg-free cake flavors or experimenting with different combinations of ingredients to create your own unique flavor.\n"
     ]
    }
   ],
   "source": [
    "def handle_user_input():\n",
    "    \"\"\"Helper function to get user input with conversation history\"\"\"\n",
    "    while True:\n",
    "        user_input = input(\"You (type 'exit' to end): \")\n",
    "        if user_input.lower() == 'exit':\n",
    "            return None\n",
    "        return user_input\n",
    "\n",
    "\n",
    "# Initialize conversation\n",
    "config = {\"configurable\": {\"thread_id\": \"1\"}}\n",
    "messages = []\n",
    "\n",
    "while True:\n",
    "    # Get user input\n",
    "    user_input = handle_user_input()\n",
    "    if user_input is None:\n",
    "        break\n",
    "\n",
    "    # Add to message history\n",
    "    messages.append({\"role\": \"user\", \"content\": user_input})\n",
    "\n",
    "    # Stream the conversation\n",
    "    events = graph.stream(\n",
    "        {\"messages\": messages},\n",
    "        config,\n",
    "        stream_mode=\"values\"\n",
    "    )\n",
    "\n",
    "    # Process and display responses\n",
    "    for event in events:\n",
    "        if \"messages\" in event:\n",
    "            last_message = event[\"messages\"][-1]\n",
    "            last_message.pretty_print()\n",
    "            messages.append(last_message)\n"
   ]
  },
  {
   "cell_type": "code",
   "execution_count": null,
   "metadata": {},
   "outputs": [],
   "source": []
  }
 ],
 "metadata": {
  "kernelspec": {
   "display_name": "base",
   "language": "python",
   "name": "python3"
  },
  "language_info": {
   "codemirror_mode": {
    "name": "ipython",
    "version": 3
   },
   "file_extension": ".py",
   "mimetype": "text/x-python",
   "name": "python",
   "nbconvert_exporter": "python",
   "pygments_lexer": "ipython3",
   "version": "3.12.0"
  },
  "orig_nbformat": 4
 },
 "nbformat": 4,
 "nbformat_minor": 2
}
