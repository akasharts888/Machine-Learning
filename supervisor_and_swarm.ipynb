{
 "cells": [
  {
   "cell_type": "code",
   "execution_count": 2,
   "metadata": {},
   "outputs": [],
   "source": [
    "from langchain_groq import ChatGroq\n",
    "from dotenv import load_dotenv\n",
    "import os\n",
    "\n",
    "load_dotenv()\n",
    "\n",
    "GROQ_MODEL = os.getenv(\"GROQ_MODEL\")\n",
    "GROQ_API = os.getenv(\"GROQ_API_KEY\")\n",
    "llm = ChatGroq(api_key=GROQ_API, model=GROQ_MODEL)\n"
   ]
  },
  {
   "cell_type": "code",
   "execution_count": 3,
   "metadata": {},
   "outputs": [],
   "source": [
    "from langgraph.prebuilt import create_react_agent\n",
    "from langgraph_supervisor import create_supervisor\n",
    "\n",
    "\n",
    "def book_hotel(hotel_name: str):\n",
    "    \"\"\"Book a hotel\"\"\"\n",
    "    return f\"Successfully booked a stay at {hotel_name}.\"\n",
    "\n",
    "\n",
    "def book_flight(from_airport: str, to_airport: str):\n",
    "    \"\"\"Book a flight\"\"\"\n",
    "    return f\"Successfully booked a flight from {from_airport} to {to_airport}.\"\n",
    "\n",
    "\n",
    "flight_assistant = create_react_agent(\n",
    "    llm,\n",
    "    tools=[book_flight],\n",
    "    prompt=\"You are a flight booking assistant\",\n",
    "    name=\"flight_assistant\"\n",
    ")\n",
    "\n",
    "\n",
    "hotel_assistant = create_react_agent(\n",
    "    llm,\n",
    "    tools=[book_hotel],\n",
    "    prompt=\"You are a hotel booking assistant.\",\n",
    "    name=\"hotel_assistant\"\n",
    ")\n"
   ]
  },
  {
   "cell_type": "code",
   "execution_count": 4,
   "metadata": {},
   "outputs": [],
   "source": [
    "supervisor = create_supervisor(\n",
    "    agents=[flight_assistant, hotel_assistant],\n",
    "    model=llm,\n",
    "    prompt=(\n",
    "        \"You manage a hotel booking assistant and a\"\n",
    "        \"flight booking assistant. Assign work to them.\"\n",
    "    )\n",
    ").compile()\n"
   ]
  },
  {
   "cell_type": "code",
   "execution_count": 5,
   "metadata": {},
   "outputs": [
    {
     "data": {
      "image/png": "[encoded data removed]",
      "text/plain": [
       "<IPython.core.display.Image object>"
      ]
     },
     "metadata": {},
     "output_type": "display_data"
    }
   ],
   "source": [
    "from IPython.display import Image, display\n",
    "display(Image(supervisor.get_graph().draw_mermaid_png()))\n"
   ]
  },
  {
   "cell_type": "code",
   "execution_count": 6,
   "metadata": {},
   "outputs": [
    {
     "name": "stdout",
     "output_type": "stream",
     "text": [
      "{'supervisor': None}\n",
      "\n",
      "\n",
      "{'hotel_assistant': {'messages': [AIMessage(content=\"I'm happy to help you with your booking. I've been transferred to the hotel assistant.\", additional_kwargs={}, response_metadata={'token_usage': {'completion_tokens': 20, 'prompt_tokens': 976, 'total_tokens': 996, 'completion_time': 0.017279506, 'prompt_time': 0.121665549, 'queue_time': 0.2657792, 'total_time': 0.138945055}, 'model_name': 'llama3-8b-8192', 'system_fingerprint': 'fp_f974fb141b', 'finish_reason': 'stop', 'logprobs': None}, name='hotel_assistant', id='run-8924c3ce-3b4a-42af-acee-08b1ff673754-0', usage_metadata={'input_tokens': 976, 'output_tokens': 20, 'total_tokens': 996}), AIMessage(content='Transferring back to supervisor', additional_kwargs={}, response_metadata={'__is_handoff_back': True}, name='hotel_assistant', tool_calls=[{'name': 'transfer_back_to_supervisor', 'args': {}, 'id': '71ed68ae-ed8b-4a0f-83e1-193b3983d9aa', 'type': 'tool_call'}]), ToolMessage(content='Successfully transferred back to supervisor', name='transfer_back_to_supervisor', tool_call_id='71ed68ae-ed8b-4a0f-83e1-193b3983d9aa')]}}\n",
      "\n",
      "\n",
      "{'flight_assistant': {'messages': [AIMessage(content=\"I'm happy to help you book a flight from BOS to JFK!\\n\\nTo book your flight, I'll need to know some more information. Can you please tell me your travel dates and preferred airline or flight class?\", additional_kwargs={}, response_metadata={'token_usage': {'completion_tokens': 45, 'prompt_tokens': 997, 'total_tokens': 1042, 'completion_time': 0.0375, 'prompt_time': 0.185756718, 'queue_time': 0.254619719, 'total_time': 0.223256718}, 'model_name': 'llama3-8b-8192', 'system_fingerprint': 'fp_179b0f92c9', 'finish_reason': 'stop', 'logprobs': None}, name='flight_assistant', id='run-a5057db1-758e-4b59-be67-e89801f8b49b-0', usage_metadata={'input_tokens': 997, 'output_tokens': 45, 'total_tokens': 1042}), AIMessage(content='Transferring back to supervisor', additional_kwargs={}, response_metadata={'__is_handoff_back': True}, name='flight_assistant', tool_calls=[{'name': 'transfer_back_to_supervisor', 'args': {}, 'id': '697dd640-6826-4774-aa61-fd2e9c6af618', 'type': 'tool_call'}]), ToolMessage(content='Successfully transferred back to supervisor', name='transfer_back_to_supervisor', tool_call_id='697dd640-6826-4774-aa61-fd2e9c6af618')]}}\n",
      "\n",
      "\n",
      "{'supervisor': {'messages': [HumanMessage(content='book a flight from BOS to JFK and a stay at McKittrick Hotel', additional_kwargs={}, response_metadata={}, id='a92528af-9c37-4dbc-a553-971d8861805f'), AIMessage(content=\"I'm happy to help you book a flight from BOS to JFK!\\n\\nTo book your flight, I'll need to know some more information. Can you please tell me your travel dates and preferred airline or flight class?\", additional_kwargs={}, response_metadata={'token_usage': {'completion_tokens': 45, 'prompt_tokens': 997, 'total_tokens': 1042, 'completion_time': 0.0375, 'prompt_time': 0.185756718, 'queue_time': 0.254619719, 'total_time': 0.223256718}, 'model_name': 'llama3-8b-8192', 'system_fingerprint': 'fp_179b0f92c9', 'finish_reason': 'stop', 'logprobs': None}, name='flight_assistant', id='run-a5057db1-758e-4b59-be67-e89801f8b49b-0', usage_metadata={'input_tokens': 997, 'output_tokens': 45, 'total_tokens': 1042}), AIMessage(content='Transferring back to supervisor', additional_kwargs={}, response_metadata={'__is_handoff_back': True}, name='flight_assistant', id='786d3bb7-074b-4efd-b852-7a0e2025fb04', tool_calls=[{'name': 'transfer_back_to_supervisor', 'args': {}, 'id': '697dd640-6826-4774-aa61-fd2e9c6af618', 'type': 'tool_call'}]), ToolMessage(content='Successfully transferred back to supervisor', name='transfer_back_to_supervisor', id='f824c00a-09ae-4627-9dbe-8652442ec611', tool_call_id='697dd640-6826-4774-aa61-fd2e9c6af618'), AIMessage(content=\"I'm happy to help you with your booking. I've been transferred to the hotel assistant.\", additional_kwargs={}, response_metadata={'token_usage': {'completion_tokens': 20, 'prompt_tokens': 976, 'total_tokens': 996, 'completion_time': 0.017279506, 'prompt_time': 0.121665549, 'queue_time': 0.2657792, 'total_time': 0.138945055}, 'model_name': 'llama3-8b-8192', 'system_fingerprint': 'fp_f974fb141b', 'finish_reason': 'stop', 'logprobs': None}, name='hotel_assistant', id='run-8924c3ce-3b4a-42af-acee-08b1ff673754-0', usage_metadata={'input_tokens': 976, 'output_tokens': 20, 'total_tokens': 996}), AIMessage(content='Transferring back to supervisor', additional_kwargs={}, response_metadata={'__is_handoff_back': True}, name='hotel_assistant', id='dc8f4af3-d8d7-4be2-938a-6231cf4e6894', tool_calls=[{'name': 'transfer_back_to_supervisor', 'args': {}, 'id': '71ed68ae-ed8b-4a0f-83e1-193b3983d9aa', 'type': 'tool_call'}]), ToolMessage(content='Successfully transferred back to supervisor', name='transfer_back_to_supervisor', id='216787d3-dfac-4547-8310-28dd11648c1a', tool_call_id='71ed68ae-ed8b-4a0f-83e1-193b3983d9aa'), AIMessage(content=\"I've been transferred back to the supervisor. Let me process your request again. Ah, I see! You want to book a flight from BOS to JFK and a stay at McKittrick Hotel.\\n\\nI've been transferred back to the flight booking assistant.\", additional_kwargs={}, response_metadata={'token_usage': {'completion_tokens': 54, 'prompt_tokens': 1245, 'total_tokens': 1299, 'completion_time': 0.045, 'prompt_time': 0.155651655, 'queue_time': 0.253891692, 'total_time': 0.200651655}, 'model_name': 'llama3-8b-8192', 'system_fingerprint': 'fp_dadc9d6142', 'finish_reason': 'stop', 'logprobs': None}, name='supervisor', id='run-48716f4a-6b9c-4367-be53-7535f3d596e1-0', usage_metadata={'input_tokens': 1245, 'output_tokens': 54, 'total_tokens': 1299})]}}\n",
      "\n",
      "\n"
     ]
    }
   ],
   "source": [
    "for chunk in supervisor.stream(\n",
    "    {\n",
    "        \"messages\": [\n",
    "            {\n",
    "                \"role\": \"user\",\n",
    "                \"content\": (\n",
    "                    \"book a flight from BOS to JFK and a stay at McKittrick Hotel\"\n",
    "                )\n",
    "            }\n",
    "        ]\n",
    "    }\n",
    "):\n",
    "    print(chunk)\n",
    "    print(\"\\n\")\n"
   ]
  },
  {
   "cell_type": "code",
   "execution_count": 7,
   "metadata": {},
   "outputs": [],
   "source": [
    "from langgraph.prebuilt import create_react_agent\n",
    "from langgraph_swarm import create_swarm, create_handoff_tool\n",
    "\n",
    "transfer_to_hotel_assistant = create_handoff_tool(\n",
    "    agent_name=\"hotel_assistant\",\n",
    "    description=\"Transfer user to the hotel-booking assistant.\",\n",
    ")\n",
    "\n",
    "transfer_to_flight_assistant = create_handoff_tool(\n",
    "    agent_name=\"flight_assistant\",\n",
    "    description=\"Transfer user to the flight-booking assistant.\",\n",
    ")\n",
    "\n",
    "flight_assistant = create_react_agent(\n",
    "    llm,\n",
    "    tools=[book_flight, transfer_to_hotel_assistant],\n",
    "    prompt=\"You are a flight booking assistant\",\n",
    "    name=\"flight_assistant\"\n",
    ")\n",
    "\n",
    "hotel_assistant = create_react_agent(\n",
    "    llm,\n",
    "    tools=[book_hotel, transfer_to_flight_assistant],\n",
    "    prompt=\"You are a hotel booking assistant\",\n",
    "    name=\"hotel_assistant\"\n",
    ")\n",
    "\n",
    "swarm = create_swarm(\n",
    "    agents=[flight_assistant, hotel_assistant],\n",
    "    default_active_agent=\"flight_assistant\"\n",
    ").compile()\n"
   ]
  },
  {
   "cell_type": "code",
   "execution_count": 8,
   "metadata": {},
   "outputs": [
    {
     "data": {
      "image/png": "[encoded data removed]",
      "text/plain": [
       "<IPython.core.display.Image object>"
      ]
     },
     "metadata": {},
     "output_type": "display_data"
    }
   ],
   "source": [
    "from IPython.display import Image, display\n",
    "display(Image(swarm.get_graph().draw_mermaid_png()))\n"
   ]
  },
  {
   "cell_type": "code",
   "execution_count": 9,
   "metadata": {},
   "outputs": [
    {
     "name": "stdout",
     "output_type": "stream",
     "text": [
      "{'flight_assistant': {'messages': [HumanMessage(content='book a flight from BOS to JFK and a stay at McKittrick Hotel', additional_kwargs={}, response_metadata={}, id='73be98df-e670-43ba-a471-60d4309e5d06'), AIMessage(content='', additional_kwargs={'tool_calls': [{'id': 'call_j7yq', 'function': {'arguments': '{\"from_airport\":\"BOS\",\"to_airport\":\"JFK\"}', 'name': 'book_flight'}, 'type': 'function'}]}, response_metadata={'token_usage': {'completion_tokens': 95, 'prompt_tokens': 994, 'total_tokens': 1089, 'completion_time': 0.079166667, 'prompt_time': 0.123883152, 'queue_time': 0.246370867, 'total_time': 0.203049819}, 'model_name': 'llama3-8b-8192', 'system_fingerprint': 'fp_179b0f92c9', 'finish_reason': 'tool_calls', 'logprobs': None}, name='flight_assistant', id='run-bcd15473-edd5-4603-822a-63195112aa31-0', tool_calls=[{'name': 'book_flight', 'args': {'from_airport': 'BOS', 'to_airport': 'JFK'}, 'id': 'call_j7yq', 'type': 'tool_call'}], usage_metadata={'input_tokens': 994, 'output_tokens': 95, 'total_tokens': 1089}), ToolMessage(content='Successfully booked a flight from BOS to JFK.', name='book_flight', id='c1e15142-581a-4314-bfc0-3fedf546cad0', tool_call_id='call_j7yq'), AIMessage(content=\"Thank you for booking your flight from BOS to JFK. Now, regarding your stay at McKittrick Hotel, I'm happy to assist you. Unfortunately, I couldn't find any information on McKittrick Hotel. Could you please provide me with more details or clarify which hotel you are looking for?\", additional_kwargs={}, response_metadata={'token_usage': {'completion_tokens': 64, 'prompt_tokens': 2177, 'total_tokens': 2241, 'completion_time': 0.053333333, 'prompt_time': 0.269220616, 'queue_time': -0.294542736, 'total_time': 0.322553949}, 'model_name': 'llama3-8b-8192', 'system_fingerprint': 'fp_179b0f92c9', 'finish_reason': 'stop', 'logprobs': None}, name='flight_assistant', id='run-595b4ba9-867b-4f9a-926e-1a37cb8088b5-0', usage_metadata={'input_tokens': 2177, 'output_tokens': 64, 'total_tokens': 2241})]}}\n",
      "\n",
      "\n"
     ]
    }
   ],
   "source": [
    "for chunk in swarm.stream(\n",
    "    {\n",
    "        \"messages\": [\n",
    "            {\n",
    "                \"role\": \"user\",\n",
    "                \"content\": \"book a flight from BOS to JFK and a stay at McKittrick Hotel\"\n",
    "            }\n",
    "        ]\n",
    "    }\n",
    "):\n",
    "    print(chunk)\n",
    "    print(\"\\n\")\n"
   ]
  }
 ],
 "metadata": {
  "kernelspec": {
   "display_name": "Python 3",
   "language": "python",
   "name": "python3"
  },
  "language_info": {
   "codemirror_mode": {
    "name": "ipython",
    "version": 3
   },
   "file_extension": ".py",
   "mimetype": "text/x-python",
   "name": "python",
   "nbconvert_exporter": "python",
   "pygments_lexer": "ipython3",
   "version": "3.12.0"
  },
  "orig_nbformat": 4
 },
 "nbformat": 4,
 "nbformat_minor": 2
}
